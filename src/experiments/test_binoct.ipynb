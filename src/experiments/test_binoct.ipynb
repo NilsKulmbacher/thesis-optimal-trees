{
 "cells": [
  {
   "cell_type": "markdown",
   "metadata": {},
   "source": [
    "## Test class for running BinOCT implementation"
   ]
  },
  {
   "cell_type": "code",
   "execution_count": 1,
   "metadata": {},
   "outputs": [
    {
     "name": "stdout",
     "output_type": "stream",
     "text": [
      "---BANKNOTE---\n"
     ]
    }
   ],
   "source": [
    "import sys\n",
    "sys.path.append(\"..\")\n",
    "import preprocessing.Datasets as DS\n",
    "import numpy as np\n",
    "import pandas as pd\n",
    "import matplotlib.pyplot as plt\n",
    "from sklearn.model_selection import train_test_split\n",
    "from sklearn.metrics import accuracy_score, f1_score, roc_auc_score, precision_score, recall_score\n",
    "from imblearn.metrics import specificity_score\n",
    "import os\n",
    "from modelling.binOCText.binoct import binOptimalDecisionTreeClassifier\n",
    "from sklearn.tree import DecisionTreeClassifier\n",
    "from sklearn.ensemble import RandomForestClassifier\n",
    "from sklearn.model_selection import GridSearchCV\n",
    "\n",
    "\n",
    "# Manually loading binary dataset\n",
    "problem = DS.banknote \n",
    "pname = problem.__name__.upper()\n",
    "print(f'---{pname}---')\n",
    "df = pd.read_csv('C:/Users/nilku/Desktop/PROJECTS/BAN-thesis-optimal-trees/datasets/binary/BANKNOTE_binary.csv')\n",
    "X_train, X_test, y_train, y_test = train_test_split(df.drop('y', axis=1), df['y'], test_size=0.2, random_state=42)"
   ]
  },
  {
   "cell_type": "markdown",
   "metadata": {},
   "source": [
    "### Testing implementaiton"
   ]
  },
  {
   "cell_type": "code",
   "execution_count": 2,
   "metadata": {},
   "outputs": [
    {
     "name": "stdout",
     "output_type": "stream",
     "text": [
      "Training data include 1097 instances, 72 features.\n",
      "Set parameter Username\n",
      "Academic license - for non-commercial use only - expires 2025-05-13\n",
      "Set parameter TimeLimit to value 100\n",
      "Gurobi Optimizer version 11.0.2 build v11.0.2rc0 (win64 - Windows 11.0 (22631.2))\n",
      "\n",
      "CPU model: AMD Ryzen 5 3500U with Radeon Vega Mobile Gfx, instruction set [SSE2|AVX|AVX2]\n",
      "Thread count: 4 physical cores, 8 logical processors, using up to 8 threads\n",
      "\n",
      "Optimize a model with 19808 rows, 18712 columns and 2617520 nonzeros\n",
      "Model fingerprint: 0x9a354d38\n",
      "Variable types: 17584 continuous, 1128 integer (1128 binary)\n",
      "Coefficient statistics:\n",
      "  Matrix range     [1e+00, 1e+03]\n",
      "  Objective range  [2e-03, 2e-03]\n",
      "  Bounds range     [1e+00, 1e+00]\n",
      "  RHS range        [1e+00, 1e+03]\n",
      "\n",
      "User MIP start did not produce a new incumbent solution\n",
      "\n",
      "Found heuristic solution: objective 0.6856678\n",
      "Presolve removed 16 rows and 16 columns (presolve time = 5s) ...\n",
      "Presolve removed 16 rows and 16 columns\n",
      "Presolve time: 6.15s\n",
      "Presolved: 19792 rows, 18696 columns, 2617554 nonzeros\n",
      "Variable types: 17584 continuous, 1112 integer (1112 binary)\n",
      "\n",
      "Root simplex log...\n",
      "\n",
      "Iteration    Objective       Primal Inf.    Dual Inf.      Time\n",
      "       0    0.0000000e+00   1.199219e+00   0.000000e+00      9s\n",
      "       1    0.0000000e+00   0.000000e+00   0.000000e+00      9s\n",
      "       1    0.0000000e+00   0.000000e+00   0.000000e+00      9s\n",
      "\n",
      "Use crossover to convert LP symmetric solution to basic solution...\n",
      "\n",
      "Root crossover log...\n",
      "\n",
      "   18466 PPushes remaining with PInf 0.0000000e+00                 9s\n",
      "       0 PPushes remaining with PInf 0.0000000e+00                10s\n",
      "\n",
      "  Push phase complete: Pinf 0.0000000e+00, Dinf 0.0000000e+00     10s\n",
      "\n",
      "\n",
      "Root simplex log...\n",
      "\n",
      "Iteration    Objective       Primal Inf.    Dual Inf.      Time\n",
      "   18470    0.0000000e+00   0.000000e+00   0.000000e+00     10s\n",
      "\n",
      "Root relaxation: objective 0.000000e+00, 18470 iterations, 2.45 seconds (1.93 work units)\n",
      "\n",
      "    Nodes    |    Current Node    |     Objective Bounds      |     Work\n",
      " Expl Unexpl |  Obj  Depth IntInf | Incumbent    BestBd   Gap | It/Node Time\n",
      "\n",
      "     0     0    0.00000    0   11    0.68567    0.00000   100%     -   13s\n",
      "H    0     0                       0.1335505    0.00000   100%     -   15s\n",
      "     0     0    0.00000    0   20    0.13355    0.00000   100%     -   23s\n",
      "     0     0    0.00000    0    6    0.13355    0.00000   100%     -   35s\n",
      "     0     0    0.00000    0    7    0.13355    0.00000   100%     -   37s\n",
      "     0     0    0.00000    0    4    0.13355    0.00000   100%     -   48s\n",
      "     0     0    0.00000    0   14    0.13355    0.00000   100%     -   51s\n",
      "     0     0    0.00000    0    5    0.13355    0.00000   100%     -   64s\n",
      "H    0     0                       0.0830619    0.00000   100%     -   71s\n",
      "\n",
      "Cutting planes:\n",
      "  Implied bound: 487\n",
      "  MIR: 65\n",
      "  Relax-and-lift: 1\n",
      "  PSD: 1\n",
      "\n",
      "Explored 1 nodes (51140 simplex iterations) in 100.38 seconds (55.72 work units)\n",
      "Thread count was 8 (of 8 available processors)\n",
      "\n",
      "Solution count 3: 0.0830619 0.13355 0.685668 \n",
      "\n",
      "Time limit reached\n",
      "Best objective 8.306188925081e-02, best bound 0.000000000000e+00, gap 100.0000%\n"
     ]
    }
   ],
   "source": [
    "# Parameters for GridSearchCV (reference model)\n",
    "params = {'max_depth': range(2, 5),\n",
    "'min_samples_split': [2,3,4],\n",
    "'min_samples_leaf': [1,2]}\n",
    "\n",
    "# Train reference model\n",
    "clf = DecisionTreeClassifier(random_state=4)\n",
    "gcv = GridSearchCV(estimator=clf,param_grid=params, scoring='accuracy', cv=3)\n",
    "gcv.fit(X_train,y_train)\n",
    "\n",
    "# Get optimal parameters\n",
    "optimal_depth = gcv.best_params_['max_depth']\n",
    "optimal_min_samples = gcv.best_params_['min_samples_split']\n",
    "\n",
    "# Train optimal tree\n",
    "octree = binOptimalDecisionTreeClassifier(max_depth=optimal_depth, min_samples_split=optimal_min_samples, warmstart=True, timelimit=100, output=True)\n",
    "octree.fit(X_train.values, y_train.values)"
   ]
  },
  {
   "cell_type": "markdown",
   "metadata": {},
   "source": [
    "### Extracting metrics"
   ]
  },
  {
   "cell_type": "code",
   "execution_count": 3,
   "metadata": {},
   "outputs": [
    {
     "name": "stdout",
     "output_type": "stream",
     "text": [
      "Accuracy: 0.96\n"
     ]
    }
   ],
   "source": [
    "# Predict using optimal tree\n",
    "y_test_pred = octree.predict(X_test)\n",
    "\n",
    "# Compute accuracy\n",
    "accuracy = np.mean(y_test == y_test_pred)\n",
    "print(f'Accuracy: {accuracy}')"
   ]
  },
  {
   "cell_type": "code",
   "execution_count": 4,
   "metadata": {},
   "outputs": [
    {
     "name": "stdout",
     "output_type": "stream",
     "text": [
      "{'accuracy': 0.96, 'f1': 0.9571984435797666, 'auc': 0.9606033198552884, 'precision': 0.9461538461538461, 'recall': 0.968503937007874, 'specificity': 0.9527027027027027, '#leaves': 16, '#nodes': 31, '#rules': 15, 'max_depth': 4, 'avg_depth': 4, 'binary_features_used': 12, 'imbalanced': False}\n"
     ]
    }
   ],
   "source": [
    "# unique features used\n",
    "splits = octree.split\n",
    "features_used = [splits[i][0] for i in splits]\n",
    "features_used = len(np.unique(features_used))\n",
    "\n",
    "# number of nodes\n",
    "num_nodes = len(octree.n_index)\n",
    "\n",
    "# number of leaves\n",
    "num_leaves = len(octree.l_index)\n",
    "\n",
    "# number of rules\n",
    "num_rules = len(octree.b_index) \n",
    "\n",
    "# average and max dept (equal in this case)\n",
    "max_depth = octree.max_depth\n",
    "avg_depth = octree.max_depth\n",
    "\n",
    "# tree is always balanced\n",
    "is_imbalanced_tree = False\n",
    "\n",
    "# Changing variable to match with metrics class later\n",
    "y_true = y_test\n",
    "y_pred = y_test_pred\n",
    "\n",
    "metrics = {\n",
    "        \"accuracy\": accuracy_score(y_true, y_pred),\n",
    "        'f1': f1_score(y_true, y_pred,zero_division=0),\n",
    "        \"auc\": roc_auc_score(y_true, y_pred),\n",
    "        'precision': precision_score(y_true, y_pred,zero_division=0),\n",
    "        'recall': recall_score(y_true, y_pred,zero_division=0),\n",
    "        'specificity': specificity_score(y_true, y_pred),\n",
    "        '#leaves': num_leaves,\n",
    "        '#nodes': num_nodes,\n",
    "        '#rules': num_nodes-num_leaves,\n",
    "        'max_depth': max_depth,\n",
    "        'avg_depth': avg_depth,\n",
    "        'binary_features_used': features_used,\n",
    "        'imbalanced': is_imbalanced_tree\n",
    "    }\n",
    "\n",
    "print(metrics)"
   ]
  }
 ],
 "metadata": {
  "kernelspec": {
   "display_name": "Python 3",
   "language": "python",
   "name": "python3"
  },
  "language_info": {
   "codemirror_mode": {
    "name": "ipython",
    "version": 3
   },
   "file_extension": ".py",
   "mimetype": "text/x-python",
   "name": "python",
   "nbconvert_exporter": "python",
   "pygments_lexer": "ipython3",
   "version": "3.12.4"
  }
 },
 "nbformat": 4,
 "nbformat_minor": 2
}
