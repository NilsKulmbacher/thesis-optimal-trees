{
 "cells": [
  {
   "cell_type": "markdown",
   "metadata": {},
   "source": [
    "## Test class for running GOSDT implementation"
   ]
  },
  {
   "cell_type": "code",
   "execution_count": 17,
   "metadata": {},
   "outputs": [
    {
     "name": "stdout",
     "output_type": "stream",
     "text": [
      "---BANKNOTE---\n"
     ]
    }
   ],
   "source": [
    "import sys\n",
    "sys.path.append(\"..\")\n",
    "import preprocessing.Datasets as DS\n",
    "import numpy as np\n",
    "import pandas as pd\n",
    "import math\n",
    "import matplotlib.pyplot as plt\n",
    "from sklearn.model_selection import train_test_split\n",
    "from sklearn.tree import DecisionTreeClassifier\n",
    "from sklearn.metrics import accuracy_score\n",
    "from sklearn.ensemble import GradientBoostingClassifier\n",
    "import gosdt\n",
    "import json\n",
    "from gosdt.model.threshold_guess import compute_thresholds\n",
    "\n",
    "# Load dataset\n",
    "problem = DS.banknote \n",
    "pname = problem.__name__.upper()\n",
    "print(f'---{pname}---')\n",
    "df = problem('../../datasets/original/')\n",
    "X = df.drop('y', axis=1)\n",
    "y = df['y']"
   ]
  },
  {
   "cell_type": "markdown",
   "metadata": {},
   "source": [
    "### Testing implementation"
   ]
  },
  {
   "cell_type": "code",
   "execution_count": 21,
   "metadata": {},
   "outputs": [],
   "source": [
    "# Setting up GOSDT configuration\n",
    "labelpath = \"labels.csv\"\n",
    "config = {\n",
    "                \"regularization\": 0.05,\n",
    "                \"depth_budget\":5*1,  # +1 to account for root node\n",
    "                \"reference_LB\": True,\n",
    "                \"verbose\": True,\n",
    "                \"diagnostics\": True,\n",
    "                \"path_to_labels\": labelpath,\n",
    "                \"time_limit\": 600\n",
    "        }"
   ]
  },
  {
   "cell_type": "code",
   "execution_count": 22,
   "metadata": {},
   "outputs": [
    {
     "name": "stdout",
     "output_type": "stream",
     "text": [
      "Generating warm labels...\n",
      "gosdt reported successful execution\n",
      "training completed. 0.000/0.000/0.003 (user, system, wall), mem=0 MB\n",
      "bounds: [0.235825..0.235825] (0.000000) loss=0.135825, iterations=86\n"
     ]
    }
   ],
   "source": [
    "# Train & predict GOSDT model\n",
    "\n",
    "print(\"Generating warm labels...\")\n",
    "clf = GradientBoostingClassifier(\n",
    "    n_estimators=40, max_depth=5, random_state=42)\n",
    "clf.fit(X_train, y_train.values.flatten())\n",
    "warm_labels = clf.predict(X_train)\n",
    "pd.DataFrame(warm_labels, columns=[\"class_labels\"]).to_csv(\n",
    "   labelpath, header=\"class_labels\", index=None)\n",
    "\n",
    "\n",
    "n_est = 40\n",
    "max_depth_warm_labels = max(1, math.ceil(\n",
    "    math.log2(len(np.unique(y))))-1)\n",
    "X, thresholds, header, threshold_guess_time=compute_thresholds(\n",
    "    X, y, n_est, max_depth_warm_labels)\n",
    "y=pd.DataFrame(y)\n",
    "\n",
    "X_train, X_test, y_train, y_test=train_test_split(\n",
    "    X, y, test_size=0.2, random_state=42)\n",
    "\n",
    "model = gosdt.GOSDT(config)\n",
    "model.fit(X_train, y_train)\n",
    "json_tree = json.loads(model.json())\n",
    "\n",
    "y_pred = model.predict(X_test)"
   ]
  },
  {
   "cell_type": "markdown",
   "metadata": {},
   "source": [
    "### Extracting metrics"
   ]
  },
  {
   "cell_type": "code",
   "execution_count": 25,
   "metadata": {},
   "outputs": [],
   "source": [
    "# Helper function to extract features from the tree using the json representation\n",
    "def extract_features_from_name(d):\n",
    "    features = []\n",
    "\n",
    "    def recurse_extract(d):\n",
    "        if isinstance(d, dict):\n",
    "            if 'name' in d and '<=' in d['name']:\n",
    "                feature_name = d['name'].split('<=')[0].strip()\n",
    "                features.append(feature_name)\n",
    "            for key in d:\n",
    "                recurse_extract(d[key])\n",
    "\n",
    "    recurse_extract(d)\n",
    "    return features\n",
    "\n",
    "# Function to recursively find the depth of \"prediction\" keys, alculate the average depth\n",
    "def find_prediction_depth(d, current_depth=0, depths=None):\n",
    "    if depths is None:\n",
    "        depths = []\n",
    "    if isinstance(d, dict):\n",
    "        for key, value in d.items():\n",
    "            if key == \"prediction\":\n",
    "                depths.append(current_depth+1)\n",
    "            else:\n",
    "                find_prediction_depth(value, current_depth + 1, depths)\n",
    "    elif isinstance(d, list):\n",
    "        for item in d:\n",
    "            find_prediction_depth(item, current_depth + 1, depths)\n",
    "    return depths"
   ]
  },
  {
   "cell_type": "code",
   "execution_count": 27,
   "metadata": {},
   "outputs": [
    {
     "name": "stdout",
     "output_type": "stream",
     "text": [
      "Number of nodes: 3\n",
      "Number of leaves: 2\n",
      "Maximum depth: 1\n",
      "Average depth: 1.0\n",
      "Imbalanced tree: False\n",
      "Features used: 1\n"
     ]
    }
   ],
   "source": [
    "# Using custom and build-in functions to extract metrics\n",
    "nodes = model.tree.source\n",
    "num_nodes = model.nodes()\n",
    "num_leaves = model.leaves()\n",
    "max_depth = model.max_depth()-1\n",
    "\n",
    "depths = find_prediction_depth(json_tree)\n",
    "features_used = len(set(extract_features_from_name(json_tree)))\n",
    "avg_depth = (sum(depths) / len(depths))-1\n",
    "is_imbalanced_tree = (avg_depth!=max_depth)\n",
    "\n",
    "print(f\"Number of nodes: {num_nodes}\")\n",
    "print(f\"Number of leaves: {num_leaves}\")\n",
    "print(f\"Maximum depth: {max_depth}\")\n",
    "print(f\"Average depth: {avg_depth}\")\n",
    "print(f\"Imbalanced tree: {is_imbalanced_tree}\")\n",
    "print(f\"Features used: {features_used}\")"
   ]
  }
 ],
 "metadata": {
  "kernelspec": {
   "display_name": "Python 3",
   "language": "python",
   "name": "python3"
  },
  "language_info": {
   "codemirror_mode": {
    "name": "ipython",
    "version": 3
   },
   "file_extension": ".py",
   "mimetype": "text/x-python",
   "name": "python",
   "nbconvert_exporter": "python",
   "pygments_lexer": "ipython3",
   "version": "3.12.4"
  }
 },
 "nbformat": 4,
 "nbformat_minor": 2
}
